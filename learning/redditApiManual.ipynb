{
 "cells": [
  {
   "cell_type": "markdown",
   "id": "29793377-4d9b-4eeb-8858-6c0683fc16b5",
   "metadata": {
    "tags": []
   },
   "source": [
    "sources:  \n",
    "https://towardsdatascience.com/how-to-use-the-reddit-api-in-python-5e05ddfd1e5c"
   ]
  },
  {
   "cell_type": "code",
   "execution_count": 121,
   "id": "538ba031-97bd-4012-8833-0c391c5cd180",
   "metadata": {},
   "outputs": [],
   "source": [
    "CLIENT_ID = '8Ara-tL3whPJTKSzuLe0Wg'\n",
    "SECRET_KEY = '5ciIZ_875ywNSWHWY7S4QcaimF788g'"
   ]
  },
  {
   "cell_type": "code",
   "execution_count": 122,
   "id": "268ac14f-5d3c-4ea0-84eb-3aa8c5a7d037",
   "metadata": {},
   "outputs": [],
   "source": [
    "import requests"
   ]
  },
  {
   "cell_type": "code",
   "execution_count": 133,
   "id": "2679aa14-70f1-47d7-af52-35034e44c3ec",
   "metadata": {},
   "outputs": [],
   "source": [
    "auth = requests.auth.HTTPBasicAuth(CLIENT_ID, SECRET_KEY)"
   ]
  },
  {
   "cell_type": "code",
   "execution_count": 142,
   "id": "cf922472-5afc-4e04-8786-d0a220350b98",
   "metadata": {},
   "outputs": [],
   "source": [
    "pw = 'password'"
   ]
  },
  {
   "cell_type": "code",
   "execution_count": 143,
   "id": "79da76d1-9c2e-4924-bedb-2aee31daba7a",
   "metadata": {},
   "outputs": [],
   "source": [
    "data = {\n",
    "    'grant_type' : 'password',\n",
    "    'username': 'PracticeDry5563',\n",
    "    'password': pw\n",
    "}"
   ]
  },
  {
   "cell_type": "code",
   "execution_count": 144,
   "id": "da52c800-c07e-49f3-a75e-0031bb65743b",
   "metadata": {},
   "outputs": [],
   "source": [
    "headers = {'User-Agent' : 'MyAPI/0.0.1'}"
   ]
  },
  {
   "cell_type": "code",
   "execution_count": 145,
   "id": "ae42dce6-e773-4ce4-8baa-e6bf95d36994",
   "metadata": {},
   "outputs": [],
   "source": [
    "res = requests.post('https://www.reddit.com/api/v1/access_token',\n",
    "                   auth=auth, data=data, headers=headers)"
   ]
  },
  {
   "cell_type": "code",
   "execution_count": 147,
   "id": "55dea4dc-e456-4fa2-a6a0-3c0dbfbbf677",
   "metadata": {},
   "outputs": [
    {
     "name": "stdout",
     "output_type": "stream",
     "text": [
      "1803840202860-UXXgNgrKtu0z4YFFmzaj2ZcMjVVDRg\n"
     ]
    }
   ],
   "source": [
    "TOKEN = res.json()['access_token']"
   ]
  },
  {
   "cell_type": "code",
   "execution_count": 148,
   "id": "7f095e73-ea27-450a-860e-3f4f5ce9e2e0",
   "metadata": {},
   "outputs": [],
   "source": [
    "headers = {**headers, **{'Authorization': f\"bearer {TOKEN}\"}}"
   ]
  },
  {
   "cell_type": "code",
   "execution_count": 149,
   "id": "4a3a14a3-54cf-479f-a89d-f4d702ebc743",
   "metadata": {},
   "outputs": [
    {
     "data": {
      "text/plain": [
       "<Response [200]>"
      ]
     },
     "execution_count": 149,
     "metadata": {},
     "output_type": "execute_result"
    }
   ],
   "source": [
    "requests.get('https://oauth.reddit.com/api/v1/me', headers=headers)"
   ]
  },
  {
   "cell_type": "code",
   "execution_count": 152,
   "id": "65401aca-a72a-4225-b6e4-3e51cfffcc1e",
   "metadata": {},
   "outputs": [],
   "source": [
    "import pandas as pd"
   ]
  },
  {
   "cell_type": "code",
   "execution_count": 153,
   "id": "a9d88e26-7324-4c98-a114-7572ca8a3f93",
   "metadata": {},
   "outputs": [],
   "source": [
    "res = requests.get(\"https://oauth.reddit.com/r/python/hot\",\n",
    "                   headers=headers)\n",
    "\n",
    "df = pd.DataFrame()  # initialize dataframe\n",
    "\n",
    "# loop through each post retrieved from GET request\n",
    "for post in res.json()['data']['children']:\n",
    "    # append relevant data to dataframe\n",
    "    df = df.append({\n",
    "        'subreddit': post['data']['subreddit'],\n",
    "        'title': post['data']['title'],\n",
    "        'selftext': post['data']['selftext'],\n",
    "        'upvote_ratio': post['data']['upvote_ratio'],\n",
    "        'ups': post['data']['ups'],\n",
    "        'downs': post['data']['downs'],\n",
    "        'score': post['data']['score']\n",
    "    }, ignore_index=True)"
   ]
  },
  {
   "cell_type": "code",
   "execution_count": 154,
   "id": "c7e1c826-c32f-412e-98eb-40aa753b619c",
   "metadata": {},
   "outputs": [
    {
     "data": {
      "text/html": [
       "<div>\n",
       "<style scoped>\n",
       "    .dataframe tbody tr th:only-of-type {\n",
       "        vertical-align: middle;\n",
       "    }\n",
       "\n",
       "    .dataframe tbody tr th {\n",
       "        vertical-align: top;\n",
       "    }\n",
       "\n",
       "    .dataframe thead th {\n",
       "        text-align: right;\n",
       "    }\n",
       "</style>\n",
       "<table border=\"1\" class=\"dataframe\">\n",
       "  <thead>\n",
       "    <tr style=\"text-align: right;\">\n",
       "      <th></th>\n",
       "      <th>subreddit</th>\n",
       "      <th>title</th>\n",
       "      <th>selftext</th>\n",
       "      <th>upvote_ratio</th>\n",
       "      <th>ups</th>\n",
       "      <th>downs</th>\n",
       "      <th>score</th>\n",
       "    </tr>\n",
       "  </thead>\n",
       "  <tbody>\n",
       "    <tr>\n",
       "      <th>0</th>\n",
       "      <td>Python</td>\n",
       "      <td>Sunday Daily Thread: What's everyone working o...</td>\n",
       "      <td>Tell /r/python what you're working on this wee...</td>\n",
       "      <td>0.78</td>\n",
       "      <td>14.0</td>\n",
       "      <td>0.0</td>\n",
       "      <td>14.0</td>\n",
       "    </tr>\n",
       "    <tr>\n",
       "      <th>1</th>\n",
       "      <td>Python</td>\n",
       "      <td>Thursday Daily Thread: Python Careers, Courses...</td>\n",
       "      <td>Discussion of using Python in a professional e...</td>\n",
       "      <td>0.88</td>\n",
       "      <td>6.0</td>\n",
       "      <td>0.0</td>\n",
       "      <td>6.0</td>\n",
       "    </tr>\n",
       "    <tr>\n",
       "      <th>2</th>\n",
       "      <td>Python</td>\n",
       "      <td>2022 Python Language Summit</td>\n",
       "      <td>The Python Language Summit blogs just dropped:...</td>\n",
       "      <td>0.94</td>\n",
       "      <td>31.0</td>\n",
       "      <td>0.0</td>\n",
       "      <td>31.0</td>\n",
       "    </tr>\n",
       "    <tr>\n",
       "      <th>3</th>\n",
       "      <td>Python</td>\n",
       "      <td>What's the oldest Python version my package sh...</td>\n",
       "      <td>I maintain a library called PyAutoGUI which cu...</td>\n",
       "      <td>0.97</td>\n",
       "      <td>325.0</td>\n",
       "      <td>0.0</td>\n",
       "      <td>325.0</td>\n",
       "    </tr>\n",
       "    <tr>\n",
       "      <th>4</th>\n",
       "      <td>Python</td>\n",
       "      <td>I made my first little Website with Flask</td>\n",
       "      <td>Heyyy everyone.\\n\\nA month ago i made a simple...</td>\n",
       "      <td>0.93</td>\n",
       "      <td>140.0</td>\n",
       "      <td>0.0</td>\n",
       "      <td>140.0</td>\n",
       "    </tr>\n",
       "  </tbody>\n",
       "</table>\n",
       "</div>"
      ],
      "text/plain": [
       "  subreddit                                              title  \\\n",
       "0    Python  Sunday Daily Thread: What's everyone working o...   \n",
       "1    Python  Thursday Daily Thread: Python Careers, Courses...   \n",
       "2    Python                        2022 Python Language Summit   \n",
       "3    Python  What's the oldest Python version my package sh...   \n",
       "4    Python          I made my first little Website with Flask   \n",
       "\n",
       "                                            selftext  upvote_ratio    ups  \\\n",
       "0  Tell /r/python what you're working on this wee...          0.78   14.0   \n",
       "1  Discussion of using Python in a professional e...          0.88    6.0   \n",
       "2  The Python Language Summit blogs just dropped:...          0.94   31.0   \n",
       "3  I maintain a library called PyAutoGUI which cu...          0.97  325.0   \n",
       "4  Heyyy everyone.\\n\\nA month ago i made a simple...          0.93  140.0   \n",
       "\n",
       "   downs  score  \n",
       "0    0.0   14.0  \n",
       "1    0.0    6.0  \n",
       "2    0.0   31.0  \n",
       "3    0.0  325.0  \n",
       "4    0.0  140.0  "
      ]
     },
     "execution_count": 154,
     "metadata": {},
     "output_type": "execute_result"
    }
   ],
   "source": [
    "df.head()"
   ]
  }
 ],
 "metadata": {
  "kernelspec": {
   "display_name": "Python 3 (ipykernel)",
   "language": "python",
   "name": "python3"
  },
  "language_info": {
   "codemirror_mode": {
    "name": "ipython",
    "version": 3
   },
   "file_extension": ".py",
   "mimetype": "text/x-python",
   "name": "python",
   "nbconvert_exporter": "python",
   "pygments_lexer": "ipython3",
   "version": "3.8.10"
  }
 },
 "nbformat": 4,
 "nbformat_minor": 5
}
