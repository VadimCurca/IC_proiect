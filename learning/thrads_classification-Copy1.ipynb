{
 "cells": [
  {
   "cell_type": "code",
   "execution_count": 8,
   "id": "957965bf-e02a-4822-9323-d83bdb8217d1",
   "metadata": {},
   "outputs": [],
   "source": [
    "import numpy as np\n",
    "import networkx as nx\n",
    "import matplotlib.pyplot as plt\n",
    "\n",
    "from karateclub.dataset import GraphSetReader\n",
    "from karateclub import FeatherGraph\n",
    "from sklearn.model_selection import train_test_split\n",
    "import networkx as nx\n",
    "\n",
    "import itertools\n",
    "\n",
    "from sklearn.metrics import roc_auc_score\n",
    "from sklearn.linear_model import LogisticRegression\n",
    "\n",
    "import praw\n",
    "from praw.models import MoreComments\n",
    "\n",
    "from utils.utils import *"
   ]
  },
  {
   "cell_type": "code",
   "execution_count": 2,
   "id": "f21e05a3-ce2e-4d41-a972-8e5d6376e52f",
   "metadata": {},
   "outputs": [],
   "source": [
    "import warnings\n",
    "warnings.simplefilter(action='ignore', category=FutureWarning)"
   ]
  },
  {
   "cell_type": "code",
   "execution_count": 3,
   "id": "8ec9a3ee-2eea-43f5-a757-80b39f8c750f",
   "metadata": {},
   "outputs": [],
   "source": [
    "client_id = '8Ara-tL3whPJTKSzuLe0Wg'\n",
    "client_secret = '5ciIZ_875ywNSWHWY7S4QcaimF788g'\n",
    "user_agent = '<console:IC_proiect:1.0>'\n",
    "\n",
    "reddit = praw.Reddit(client_id = client_id,\n",
    "                    client_secret = client_secret,\n",
    "                    user_agent = user_agent)"
   ]
  },
  {
   "cell_type": "code",
   "execution_count": 4,
   "id": "f8ad8a32-ce48-42bf-ac26-185475d2147e",
   "metadata": {},
   "outputs": [],
   "source": [
    "subredditFood = reddit.subreddit(\"food\")\n",
    "subredditHardware = reddit.subreddit(\"hardware\")"
   ]
  },
  {
   "cell_type": "code",
   "execution_count": 5,
   "id": "838c7f52-d63c-4c3a-bb00-1a2cb89de828",
   "metadata": {},
   "outputs": [
    {
     "data": {
      "text/plain": [
       "(<bound method NodeView.data of NodeView((0, 1, 2, 3, 4, 5, 6, 7))>,\n",
       " <bound method OutEdgeView.data of EdgeView([(0, 1), (0, 2), (0, 3), (0, 4), (0, 5), (0, 7), (5, 6)])>)"
      ]
     },
     "execution_count": 5,
     "metadata": {},
     "output_type": "execute_result"
    },
    {
     "data": {
      "text/plain": [
       "<Figure size 720x720 with 0 Axes>"
      ]
     },
     "metadata": {},
     "output_type": "display_data"
    }
   ],
   "source": [
    "def comments_to_ids(comments, name_to_id):\n",
    "    l = []\n",
    "    for comment in comments:\n",
    "        if comment.author == None:\n",
    "            continue\n",
    "        id = name_to_id.get(comment.author)\n",
    "        if id == None:\n",
    "            lg = len(name_to_id)\n",
    "            name_to_id[comment.author] = lg;\n",
    "            id = lg\n",
    "        l.append(id)\n",
    "    return l\n",
    "\n",
    "\n",
    "def get_graph_indices_from_submission(G, submission, limit=None):\n",
    "    submission.comments.replace_more(limit=limit)\n",
    "\n",
    "    graph_list = []\n",
    "    comment_queue = submission.comments[:]\n",
    "\n",
    "    name_to_id = {}\n",
    "    name_to_id[submission.author] = 0\n",
    "    \n",
    "    nodes_list = [{}]\n",
    "\n",
    "    l = comments_to_ids(comment_queue, name_to_id)\n",
    "    graph_list = list(zip(itertools.repeat(0), l))\n",
    "    \n",
    "    G.add_edges_from(list(zip(itertools.repeat(0), l)))\n",
    "    G.add_node(0)\n",
    "\n",
    "    while comment_queue:\n",
    "        comment = comment_queue.pop(0)\n",
    "\n",
    "        if comment.author == None:\n",
    "            continue\n",
    "\n",
    "        comment_replies = list(comment.replies)\n",
    "        comment_queue.extend(comment_replies)\n",
    "\n",
    "        l = comments_to_ids(comment_replies, name_to_id)\n",
    "        this_id = comments_to_ids([comment], name_to_id)[0]\n",
    "        graph_list += list(zip(itertools.repeat(this_id), l))\n",
    "        \n",
    "        G.add_edges_from(list(zip(itertools.repeat(this_id), l)))\n",
    "        G.add_node(this_id)\n",
    "        G.nodes[this_id][\"score\"] = comment.score\n",
    "\n",
    "    return list(range(len(graph_list))), graph_list\n",
    "\n",
    "post_url = \"https://www.reddit.com/r/food/comments/urzgdv/homemade_sushi/\"\n",
    "submission = reddit.submission(url = post_url)\n",
    "\n",
    "G = nx.Graph()\n",
    "\n",
    "get_graph_indices_from_submission(G, submission)\n",
    "\n",
    "# G.add_edges_from(edges)\n",
    "# G.add_nodes_from(nodes)\n",
    "\n",
    "plt.figure(figsize = (10, 10))\n",
    "#nx.draw_kamada_kawai(G, with_labels=True, width = .5)\n",
    "\n",
    "G.nodes.data, G.edges.data"
   ]
  },
  {
   "cell_type": "code",
   "execution_count": 6,
   "id": "8c9049f0-91fb-4d54-b10c-101067cb4a41",
   "metadata": {},
   "outputs": [],
   "source": [
    "def get_graphs_from_subreddit(subreddit, limit=10):\n",
    "    list = []\n",
    "    for submission in subreddit.hot(limit=limit):\n",
    "        print(submission.title)\n",
    "\n",
    "        G = nx.Graph()\n",
    "        get_graph_indices_from_submission(G, submission, limit=100)\n",
    "\n",
    "        if(G.edges == []):\n",
    "            continue\n",
    "        \n",
    "        # G.add_edges_from(edges)\n",
    "        # G.add_nodes_from(nodes)\n",
    "\n",
    "        print(G.number_of_nodes())\n",
    "\n",
    "        list.append(G)\n",
    "    return list"
   ]
  },
  {
   "cell_type": "code",
   "execution_count": 7,
   "id": "18ca7968-920c-4a6f-aeca-89bdc1f5b3a9",
   "metadata": {},
   "outputs": [
    {
     "name": "stdout",
     "output_type": "stream",
     "text": [
      "[Homemade] bolognese\n",
      "5\n",
      "[i ate] ice cream from an ice cream truck.\n",
      "17\n",
      "[homemade] Smash Burger.\n",
      "12\n",
      "[homemade] Peanut Butter & Jelly Cookies\n",
      "109\n",
      "[I Ate] A Loaded Chef Salad.\n",
      "45\n",
      "[i ate] knuckle of pork with sauerkraut and dumplings\n",
      "180\n",
      "[homemade] Garlic Parmesan Encrusted Pearl Onions\n",
      "86\n",
      "[homemade] spicy pasta\n",
      "19\n",
      "[Homemade] Smoked Butterflied Drumsticks\n",
      "5\n",
      "[Homemade] Bacon Cheeseburger\n",
      "4\n",
      "[Pro/Chef] Mushroom prep. Nature is beautiful.\n",
      "10\n",
      "[homemade] Cheese Pizza\n",
      "7\n",
      "[homemade] Pepperoni Pizza\n",
      "2\n",
      "[Homemade] Lunch pizza\n",
      "7\n",
      "[homemade] leftover meatloaf air fried and air fried mashed potato patty sandwich with a Kraft single and some ketchup\n",
      "39\n",
      "[Homemade] Brisket and Egg Sando\n",
      "62\n",
      "[I ate] Texas BBQ Platter\n",
      "29\n",
      "[homemade] Falafel balls with tzatziki sauce\n",
      "2\n",
      "[Homemade] Chocolate and orange muffin\n",
      "1\n",
      "[homemade] pork, chicken, sausage, mushroom, spinach paella\n",
      "3\n",
      "[homemade] Aglio Olio with shrimp\n",
      "3\n",
      "[Homemade] Hawaiian hotdogs with grilled pineapple and a lime Teriyaki sauce with a side of Hawaiian mac salad\n",
      "30\n",
      "[Homemade] Audrey cake.\n",
      "5\n",
      "[Homemade] Steak and onions\n",
      "1\n",
      "[Homemade] Fire roasted poblano and grilled chicken soup with grilled tomatillo and cannellini beans.\n",
      "2\n",
      "[homemade] Tomahawk steak\n",
      "9\n",
      "[pro/chef] Triple layer chocolate drizzle buttercream cakes\n",
      "3\n",
      "[homemade] Shrimp Burrito\n",
      "1\n",
      "[Homemade] Small Serving Of Rice Pudding\n",
      "1\n",
      "[i ate] Duke's Hula Pie\n",
      "4\n",
      "[homemade] chocolate tart\n",
      "2\n",
      "[I ate] Flat iron steak, grilled tiger prawns, black garlic butter, skinny sea-salted fries & a charcuterie salad @ Star Inn The Harbour, Whitby, UK.\n",
      "1\n",
      "[homemade] Venison and butternut squash lasagna\n",
      "1\n",
      "[homemade] Sea bass ceviche\n",
      "1\n",
      "[homemade] chicken and black bean burrito with sour cream and guacamole\n",
      "2\n",
      "[Homemade] Kale breakfast bowl\n",
      "4\n",
      "[Homemade] Thai Green Curry Topped with crispy chicken skin\n",
      "6\n",
      "[Homemade] Muffin Pot\n",
      "1\n",
      "[i ate] Peanut butter & strawberry jelly on toast with banana slices\n",
      "4\n",
      "[Pro/Chef]Mexican Street Corn Croquettes\n",
      "5\n",
      "[Homemade] Candied bacon\n",
      "12\n",
      "[homemade] prosciutto and stracchino panino\n",
      "16\n",
      "[Homemade] Late Night Sesame Noodles With Green Onion And Garlic\n",
      "2\n",
      "[Homemade] Korean Fried Chicken burger\n",
      "40\n",
      "[homemade] chicken curry and rice\n",
      "4\n",
      "[homemade] chicken and fettuccine noodles with creamy cheese sauce\n",
      "4\n",
      "[Homemade] Grass Fed NY Strip with Chive Vinaigrette\n",
      "3\n",
      "[I ate] Spicy Wontons\n",
      "2\n",
      "[Homemade] Seared yellowfin tuna steak and cucumber sesame salad.\n",
      "1\n",
      "[Pro/Chef] Moules marinière\n",
      "1\n"
     ]
    }
   ],
   "source": [
    "graphsFood = get_graphs_from_subreddit(subredditFood, 50)"
   ]
  },
  {
   "cell_type": "code",
   "execution_count": 8,
   "id": "194f8e3c-a265-4b40-a445-0b916b8f939a",
   "metadata": {},
   "outputs": [
    {
     "name": "stdout",
     "output_type": "stream",
     "text": [
      "Reminder: Please do not submit tech support or build questions to /r/hardware\n",
      "9\n",
      "About Videocardz and Original Sources\n",
      "36\n",
      "Framework Laptop upgrades to 12th gen Intel\n",
      "15\n",
      "[PR] GeIL launches world’s first DDR5 memory with dual RGB fans, EVO-V available up to DDR5-6600 64GB kits starting July\n",
      "36\n",
      "Radeon Preview Driver, 50 Game Benchmark [HUB]\n",
      "22\n",
      "NVIDIA GeForce GTX 1630 to feature 512 CUDA cores, 4GB 64-bit memory, launches May 31st - VideoCardz.com\n",
      "18\n",
      "Tested: AMD’s Ryzen 7 6800U brings big performance to the tiniest laptops | PCWorld\n",
      "3\n",
      "Acer gaming laptop offers glasses-free 3D powered by an Nvidia RTX 3080 GPU\n",
      "66\n",
      "Let's Examine AMD's Claim That Radeons Deliver More FPS Per Dollar Than GeForce\n",
      "92\n",
      "[AnandTech] The SilentiumPC Fera 5 CPU Cooler Review: Quiet Cooling on a Budget\n",
      "11\n",
      "Berkeley Lab: \"New Silicon Nanowires Can Really Take the Heat\"\n",
      "6\n",
      "AMD's FSR 2.0 Even Worked With Intel Integrated Graphics\n",
      "27\n",
      "EzBench, a free Unreal Engine 5 gaming benchmark, is now available for free on Steam. An easy way to stress-test your GPU\n",
      "48\n",
      "AMD and Qualcomm Collaborate to Optimize FastConnect Connectivity Solutions for AMD Ryzen Processors\n",
      "2\n",
      "Applied Materials Outlines Next-Gen Tools for 3nm and GAA Transistor Era | AnandTech\n",
      "2\n",
      "[STH] Intel Launches Next-Gen Salvo at NVIDIA & AMD with BIG New Chips\n",
      "2\n",
      "Nintendo Switch 2: Nvidia Hiring for Next-Gen Developers Console Tool\n",
      "61\n",
      "VideoCardz: \"NVIDIA preparing GeForce GTX 1630 graphics card, its first GTX x30 model\"\n",
      "41\n",
      "Read out graphics cards power consumption via software instead of costly measurement? Easy with a NVIDIA GeForce and almost impossible with an AMD Radeon | Practice & Basics | igor'sLAB\n",
      "12\n",
      "[RGHD] 10 years later and you can still buy this graphics card NEW... (Nvidia NVS 310)\n",
      "21\n",
      "There’s a new addition to the Ankermake M5, the V6 engine and I think it's pretty great.\n",
      "11\n",
      "Water blocks may have already been created for Nvidia RTX 40 series GPUs\n",
      "12\n",
      "[2kliksphilip] Radeon HD 7000 Series with Hindsight: Great, or Disappointing?\n",
      "34\n",
      "Backblaze Drive Stats for Q1 2022\n",
      "10\n",
      "Yonhap News Agency: \"Qualcomm among Samsung's top 5 clients for 1st time due to foundry biz\"\n",
      "4\n",
      "[PCWorld] FSR 2.0 Explained & Tested VS FSR 1.0 And On Steam Deck\n",
      "4\n",
      "Qualcomm confirms launch event on May 20, likely for Snapdragon 8 Gen 1 Plus\n",
      "6\n",
      "How is pipelining possible?\n",
      "14\n",
      "VideoCardz: \"NVIDIA GeForce RTX 4090 with 16128 CUDA cores and 450W TDP is allegedly twice as fast as RTX 3090\"\n",
      "233\n",
      "PC and laptop displays are working toward 480 Hz\n",
      "120\n",
      "\"Major milestones for Arm SystemReady in driving ecosystem standards\"\n",
      "1\n",
      "[Noctua] ASUS GeForce RTX 3080 Noctua Edition graphics card\n",
      "16\n",
      "This place can be tad dry and humourless - definitely plays into the negative nerd stereotype. Can we have a weekly funny/meme day, or at least a thread?\n",
      "18\n",
      "[HUB] AMD Market Manipulation or Good Deal? Radeon RX 6950 XT Review\n",
      "45\n",
      "Korea Economic Daily: \"Samsung to make mobile AP chip dedicated to Galaxy smartphones\"\n",
      "12\n",
      "Press Release | Arm delivers record revenues and record profits in FY21\n",
      "3\n",
      "[Luumi] Summary of AMD 5300G on LN2 - Hard Coldbug at -120c & Overclocking to 5.54GHz+\n",
      "3\n",
      "Nvidia GeForce RTX 40-Series GPUs Tipped to Debut in Early Q3\n",
      "115\n",
      "[JerryRigEverything] Steam Deck Durability Test! - Is the 'Upgraded Glass' Worth it?\n",
      "7\n",
      "Gigabyte UD1000GM PG5 1000 W Review - The First PCIe 5.0 PSU | TechPowerUp\n",
      "22\n",
      "University of Cambridge: \"Algae-powered computing: scientists create reliable and renewable biological photovoltaic cell\"\n",
      "27\n",
      "AMD claims to offer better performance per dollar than Nvidia GPUs across its entire Radeon RX 6000 stack\n",
      "3\n",
      "What stops us from designing an x86 CPU from scratch\n",
      "23\n",
      "What software do chip designers (Intel, Nvidia, AMD) use to validate their clocks?\n",
      "18\n",
      "The Apple GPU and the Impossible Bug\n",
      "11\n",
      "Fortune: \"Arm's tech powers 95% of the world's smartphones. Investors want more\"\n",
      "11\n",
      "What sort of expertise/training will the workers at TSMC's new fab in AZ require?\n",
      "4\n",
      "Liliputing: \"AYA Neo 2 handheld gaming PC with Ryzen 7 6800U coming later this year\"\n",
      "32\n",
      "[LTT] 3D TVs revisited\n",
      "58\n",
      "RTX 3080 und RX 6800 XT: Treiberentwicklung von AMD und Nvidia im Vergleich(RTX 3080 and RX 6800 XT: Driver development from AMD and Nvidia in comparison)\n",
      "10\n"
     ]
    }
   ],
   "source": [
    "graphsHardware = get_graphs_from_subreddit(subredditHardware, 50)"
   ]
  },
  {
   "cell_type": "code",
   "execution_count": 9,
   "id": "a332dd31-d848-45b0-a5ad-9944b81ac46e",
   "metadata": {},
   "outputs": [],
   "source": [
    "model = FeatherGraph()\n",
    "\n",
    "graphs = graphsFood + graphsHardware\n",
    "\n",
    "# plt.figure(figsize = (10, 10))\n",
    "# nx.draw_kamada_kawai(graphs[11], with_labels=True, width = .5)\n",
    "\n",
    "model.fit(graphs)\n",
    "X = model.get_embedding()"
   ]
  },
  {
   "cell_type": "code",
   "execution_count": 10,
   "id": "75d70fe2-6508-4a88-9f55-57df94ce68c9",
   "metadata": {},
   "outputs": [],
   "source": [
    "y = [0] * len(graphsFood) + [1] * len(graphsHardware)"
   ]
  },
  {
   "cell_type": "code",
   "execution_count": 103,
   "id": "f1a2e0d0-3cd5-451b-8ccd-335526f25989",
   "metadata": {},
   "outputs": [],
   "source": [
    "X_train, X_test, y_train, y_test = train_test_split(X, y, test_size=0.2)"
   ]
  },
  {
   "cell_type": "code",
   "execution_count": 104,
   "id": "b00b1dad-0805-4436-a7cc-3a296e71c727",
   "metadata": {},
   "outputs": [
    {
     "name": "stdout",
     "output_type": "stream",
     "text": [
      "0.65\n"
     ]
    }
   ],
   "source": [
    "downstream_model = LogisticRegression(max_iter=500, random_state=0).fit(X_train, y_train)\n",
    "#y_hat = downstream_model.predict_proba(X_test)[:, 1]\n",
    "\n",
    "print(downstream_model.score(X_test, y_test))"
   ]
  },
  {
   "cell_type": "code",
   "execution_count": 20,
   "id": "a4d3c347-2104-4d38-a3cd-2a2066924863",
   "metadata": {},
   "outputs": [
    {
     "data": {
      "text/plain": [
       "array([[0.92522965, 0.07477035]])"
      ]
     },
     "execution_count": 20,
     "metadata": {},
     "output_type": "execute_result"
    }
   ],
   "source": [
    "#post_url = \"https://www.reddit.com/r/food/comments/uspd0m/i_ate_texas_bbq_platter/\"\n",
    "post_url = \"https://www.reddit.com/r/food/comments/ushi7j/homemade_garlic_parmesan_encrusted_pearl_onions/\"\n",
    "submission = reddit.submission(url = post_url)\n",
    "\n",
    "G = nx.Graph()\n",
    "\n",
    "nodes, edges = get_graph_indices_from_submission(G, submission)\n",
    "\n",
    "# G.add_edges_from(edges)\n",
    "# G.add_nodes_from(nodes)\n",
    "\n",
    "model.fit([G])\n",
    "X_eval = model.get_embedding()\n",
    "\n",
    "y_pred = downstream_model.predict_proba(X_eval)\n",
    "y_pred"
   ]
  },
  {
   "cell_type": "code",
   "execution_count": 74,
   "id": "9f1b97a6-ced3-4eca-a88c-b61e285dcc54",
   "metadata": {},
   "outputs": [
    {
     "data": {
      "text/plain": [
       "<networkx.classes.graph.Graph at 0x7fa8bc865e20>"
      ]
     },
     "execution_count": 74,
     "metadata": {},
     "output_type": "execute_result"
    }
   ],
   "source": []
  },
  {
   "cell_type": "code",
   "execution_count": null,
   "id": "ab5586f1-c376-4cdc-b7cc-4614e949ce9d",
   "metadata": {},
   "outputs": [],
   "source": []
  }
 ],
 "metadata": {
  "kernelspec": {
   "display_name": "Python 3 (ipykernel)",
   "language": "python",
   "name": "python3"
  },
  "language_info": {
   "codemirror_mode": {
    "name": "ipython",
    "version": 3
   },
   "file_extension": ".py",
   "mimetype": "text/x-python",
   "name": "python",
   "nbconvert_exporter": "python",
   "pygments_lexer": "ipython3",
   "version": "3.8.10"
  }
 },
 "nbformat": 4,
 "nbformat_minor": 5
}
