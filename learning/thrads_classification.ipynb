{
 "cells": [
  {
   "cell_type": "code",
   "execution_count": 1,
   "id": "957965bf-e02a-4822-9323-d83bdb8217d1",
   "metadata": {},
   "outputs": [],
   "source": [
    "import numpy as np\n",
    "import networkx as nx\n",
    "import matplotlib.pyplot as plt\n",
    "\n",
    "from karateclub.dataset import GraphSetReader\n",
    "from karateclub import FeatherGraph\n",
    "from sklearn.model_selection import train_test_split\n",
    "import networkx as nx\n",
    "\n",
    "import itertools\n",
    "\n",
    "from sklearn.metrics import roc_auc_score\n",
    "from sklearn.linear_model import LogisticRegression\n",
    "\n",
    "import praw\n",
    "from praw.models import MoreComments\n",
    "\n",
    "from utils.utils import *"
   ]
  },
  {
   "cell_type": "code",
   "execution_count": 2,
   "id": "f21e05a3-ce2e-4d41-a972-8e5d6376e52f",
   "metadata": {},
   "outputs": [],
   "source": [
    "import warnings\n",
    "warnings.simplefilter(action='ignore', category=FutureWarning)"
   ]
  },
  {
   "cell_type": "code",
   "execution_count": 3,
   "id": "8ec9a3ee-2eea-43f5-a757-80b39f8c750f",
   "metadata": {},
   "outputs": [],
   "source": [
    "client_id = '8Ara-tL3whPJTKSzuLe0Wg'\n",
    "client_secret = '5ciIZ_875ywNSWHWY7S4QcaimF788g'\n",
    "user_agent = '<console:IC_proiect:1.0>'\n",
    "\n",
    "reddit = praw.Reddit(client_id = client_id,\n",
    "                    client_secret = client_secret,\n",
    "                    user_agent = user_agent)"
   ]
  },
  {
   "cell_type": "code",
   "execution_count": 4,
   "id": "f8ad8a32-ce48-42bf-ac26-185475d2147e",
   "metadata": {},
   "outputs": [],
   "source": [
    "subredditFood = reddit.subreddit(\"food\")\n",
    "subredditHardware = reddit.subreddit(\"hardware\")"
   ]
  },
  {
   "cell_type": "code",
   "execution_count": 16,
   "id": "8c9049f0-91fb-4d54-b10c-101067cb4a41",
   "metadata": {},
   "outputs": [],
   "source": [
    "def get_graphs_from_subreddit(subreddit, limit=10):\n",
    "    list = []\n",
    "    for submission in subreddit.hot(limit=limit):\n",
    "        print(submission.title)\n",
    "\n",
    "        G = nx.Graph()\n",
    "        nodes, edges = get_graph_indices_from_submission(submission, limit=100)\n",
    "\n",
    "        if(edges == []):\n",
    "            continue\n",
    "        \n",
    "        G.add_edges_from(edges)\n",
    "        G.add_nodes_from(nodes)\n",
    "\n",
    "        print(G.number_of_nodes())\n",
    "\n",
    "        list.append(G)\n",
    "    return list"
   ]
  },
  {
   "cell_type": "code",
   "execution_count": 6,
   "id": "18ca7968-920c-4a6f-aeca-89bdc1f5b3a9",
   "metadata": {},
   "outputs": [
    {
     "name": "stdout",
     "output_type": "stream",
     "text": [
      "[Homemade] bolognese\n",
      "6\n",
      "[homemade] Peanut Butter & Jelly Cookies\n",
      "165\n",
      "[homemade] Smash Burger.\n",
      "15\n",
      "[i ate] ice cream from an ice cream truck.\n",
      "14\n",
      "[I Ate] A Loaded Chef Salad.\n",
      "42\n",
      "[homemade] Garlic Parmesan Encrusted Pearl Onions\n",
      "106\n",
      "[i ate] knuckle of pork with sauerkraut and dumplings\n",
      "223\n",
      "[homemade] spicy pasta\n",
      "25\n",
      "[homemade] Cheese Pizza\n",
      "8\n",
      "[homemade] leftover meatloaf air fried and air fried mashed potato patty sandwich with a Kraft single and some ketchup\n",
      "50\n"
     ]
    }
   ],
   "source": [
    "graphsFood = get_graphs_from_subreddit(subredditFood, 50)"
   ]
  },
  {
   "cell_type": "code",
   "execution_count": 7,
   "id": "194f8e3c-a265-4b40-a445-0b916b8f939a",
   "metadata": {},
   "outputs": [
    {
     "name": "stdout",
     "output_type": "stream",
     "text": [
      "Reminder: Please do not submit tech support or build questions to /r/hardware\n",
      "18\n",
      "About Videocardz and Original Sources\n",
      "84\n",
      "[PR] GeIL launches world’s first DDR5 memory with dual RGB fans, EVO-V available up to DDR5-6600 64GB kits starting July\n",
      "49\n",
      "Radeon Preview Driver, 50 Game Benchmark [HUB]\n",
      "22\n",
      "NVIDIA GeForce GTX 1630 to feature 512 CUDA cores, 4GB 64-bit memory, launches May 31st - VideoCardz.com\n",
      "16\n",
      "Acer gaming laptop offers glasses-free 3D powered by an Nvidia RTX 3080 GPU\n",
      "94\n",
      "Framework Laptop upgrades to 12th gen Intel\n",
      "3\n",
      "Let's Examine AMD's Claim That Radeons Deliver More FPS Per Dollar Than GeForce\n",
      "190\n",
      "[AnandTech] The SilentiumPC Fera 5 CPU Cooler Review: Quiet Cooling on a Budget\n",
      "13\n",
      "Berkeley Lab: \"New Silicon Nanowires Can Really Take the Heat\"\n",
      "6\n"
     ]
    }
   ],
   "source": [
    "graphsHardware = get_graphs_from_subreddit(subredditHardware)"
   ]
  },
  {
   "cell_type": "code",
   "execution_count": 8,
   "id": "a332dd31-d848-45b0-a5ad-9944b81ac46e",
   "metadata": {},
   "outputs": [],
   "source": [
    "model = FeatherGraph()\n",
    "\n",
    "graphs = graphsFood + graphsHardware\n",
    "\n",
    "# plt.figure(figsize = (10, 10))\n",
    "# nx.draw_kamada_kawai(graphs[11], with_labels=True, width = .5)\n",
    "\n",
    "model.fit(graphs)\n",
    "X = model.get_embedding()"
   ]
  },
  {
   "cell_type": "code",
   "execution_count": 9,
   "id": "75d70fe2-6508-4a88-9f55-57df94ce68c9",
   "metadata": {},
   "outputs": [
    {
     "data": {
      "text/plain": [
       "[0, 0, 0, 0, 0, 0, 0, 0, 0, 0, 1, 1, 1, 1, 1, 1, 1, 1, 1, 1]"
      ]
     },
     "execution_count": 9,
     "metadata": {},
     "output_type": "execute_result"
    }
   ],
   "source": [
    "y = [0] * len(graphsFood) + [1] * len(graphsHardware)\n",
    "y"
   ]
  },
  {
   "cell_type": "code",
   "execution_count": 10,
   "id": "f1a2e0d0-3cd5-451b-8ccd-335526f25989",
   "metadata": {},
   "outputs": [
    {
     "data": {
      "text/plain": [
       "([0, 0, 1, 0, 1, 1, 1, 0, 0, 1, 0, 1, 0, 1, 1, 0], [0, 1, 1, 0])"
      ]
     },
     "execution_count": 10,
     "metadata": {},
     "output_type": "execute_result"
    }
   ],
   "source": [
    "X_train, X_test, y_train, y_test = train_test_split(X, y, test_size=0.2)\n",
    "y_train, y_test"
   ]
  },
  {
   "cell_type": "code",
   "execution_count": 11,
   "id": "b00b1dad-0805-4436-a7cc-3a296e71c727",
   "metadata": {},
   "outputs": [
    {
     "name": "stdout",
     "output_type": "stream",
     "text": [
      "[0.65269624 0.57896019 0.49679595 0.30070779]\n",
      "[0, 1, 1, 0]\n",
      "AUC: 0.5000\n"
     ]
    }
   ],
   "source": [
    "downstream_model = LogisticRegression(max_iter=500, random_state=0).fit(X_train, y_train)\n",
    "y_hat = downstream_model.predict_proba(X_test)[:, 1]\n",
    "print(y_hat)\n",
    "print(y_test)\n",
    "auc = roc_auc_score(y_test, y_hat)\n",
    "print('AUC: {:.4f}'.format(auc))"
   ]
  },
  {
   "cell_type": "code",
   "execution_count": 15,
   "id": "a4d3c347-2104-4d38-a3cd-2a2066924863",
   "metadata": {},
   "outputs": [
    {
     "data": {
      "text/plain": [
       "array([[0.78543297, 0.21456703]])"
      ]
     },
     "execution_count": 15,
     "metadata": {},
     "output_type": "execute_result"
    }
   ],
   "source": [
    "post_url = \"https://www.reddit.com/r/food/comments/ushi7j/homemade_garlic_parmesan_encrusted_pearl_onions/\"\n",
    "submission = reddit.submission(url = post_url)\n",
    "\n",
    "G = nx.Graph()\n",
    "\n",
    "nodes, edges = get_graph_indices_from_submission(submission)\n",
    "\n",
    "G.add_edges_from(edges)\n",
    "G.add_nodes_from(nodes)\n",
    "\n",
    "model.fit([G])\n",
    "X_eval = model.get_embedding()\n",
    "\n",
    "y_pred = downstream_model.predict_proba(X_eval)\n",
    "y_pred"
   ]
  },
  {
   "cell_type": "code",
   "execution_count": null,
   "id": "9f1b97a6-ced3-4eca-a88c-b61e285dcc54",
   "metadata": {},
   "outputs": [],
   "source": []
  },
  {
   "cell_type": "code",
   "execution_count": null,
   "id": "ab5586f1-c376-4cdc-b7cc-4614e949ce9d",
   "metadata": {},
   "outputs": [],
   "source": []
  }
 ],
 "metadata": {
  "kernelspec": {
   "display_name": "Python 3 (ipykernel)",
   "language": "python",
   "name": "python3"
  },
  "language_info": {
   "codemirror_mode": {
    "name": "ipython",
    "version": 3
   },
   "file_extension": ".py",
   "mimetype": "text/x-python",
   "name": "python",
   "nbconvert_exporter": "python",
   "pygments_lexer": "ipython3",
   "version": "3.8.10"
  }
 },
 "nbformat": 4,
 "nbformat_minor": 5
}
